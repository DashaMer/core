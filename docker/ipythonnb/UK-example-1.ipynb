{
 "metadata": {
  "name": ""
 },
 "nbformat": 3,
 "nbformat_minor": 0,
 "worksheets": [
  {
   "cells": [
    {
     "cell_type": "code",
     "collapsed": false,
     "input": [
      "import time\n",
      "\n",
      "start_time = int(round(time.time() * 1000))\n",
      "\n",
      "# now we have a file\n",
      "text_file = sc.textFile(\"hdfs://hdfs-rpc.service.consul:31245/Accidents7904.csv\")\n",
      "\n",
      "# getting the header as an array\n",
      "header = text_file.first().split(\",\")\n",
      "\n",
      "# getting data\n",
      "data = text_file \\\n",
      "   .map(lambda line: line.split(\",\")) \\\n",
      "   .filter(lambda w: w[header.index('Date')] != 'Date')\n",
      "output = data.filter(lambda row: len(row[header.index('Date')].strip().split(\"/\")) == 3) \\\n",
      "   .map(lambda row: row[header.index('Date')].strip().split(\"/\")[2]) \\\n",
      "   .map(lambda word: (word, 1)) \\\n",
      "   .reduceByKey(lambda a, b: a + b) \\\n",
      "   .sortByKey(True) \\\n",
      "   .collect()\n",
      "for (line, count) in output:\n",
      "        print(\"%s: %i\" % (line, count))\n",
      "print (\"Duration is '%i' ms\" % (int(round(time.time() * 1000)) - start_time))\n",
      "\n",
      "\n",
      "%matplotlib inline\n",
      "\n",
      "import matplotlib\n",
      "import numpy as np\n",
      "import matplotlib.pyplot as plt\n",
      "\n",
      "plt.plot([str(x[0]) for x in output], [str(x[1]) for x in output])"
     ],
     "language": "python",
     "metadata": {},
     "outputs": [],
     "prompt_number": "*"
    },
    {
     "cell_type": "code",
     "collapsed": false,
     "input": [],
     "language": "python",
     "metadata": {},
     "outputs": []
    }
   ],
   "metadata": {}
  }
 ]
}